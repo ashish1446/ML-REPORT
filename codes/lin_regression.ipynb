{
 "cells": [
  {
   "cell_type": "code",
   "execution_count": 1,
   "metadata": {},
   "outputs": [],
   "source": [
    "#importing packages\n",
    "%matplotlib inline\n",
    "import numpy as np\n",
    "import matplotlib\n",
    "import matplotlib.pyplot as plt\n"
   ]
  },
  {
   "cell_type": "code",
   "execution_count": 2,
   "metadata": {},
   "outputs": [],
   "source": [
    "\n",
    "#importing data\n",
    "\n",
    "data = np.genfromtxt('diabetes-data.csv', delimiter=',')\n",
    "features = ['age', 'sex', 'body mass index', 'blood pressure', \n",
    "            'serum1', 'serum2', 'serum3', 'serum4', 'serum5', 'serum6']\n",
    "x = data[:,0:10] # predictors\n",
    "y = data[:,10] # response variable\n"
   ]
  },
  {
   "cell_type": "code",
   "execution_count": 25,
   "metadata": {},
   "outputs": [],
   "source": [
    "\n",
    "def split_data(X,Y, tr_no):\n",
    "    \n",
    "    \n",
    "    '''Function to split dataset into trainig and test set'''\n",
    "    indices =  np.random.permutation(len(X))\n",
    "    \n",
    "    train_idx =  indices[0:tr_no]\n",
    "    test_idx = indices[tr_no:]\n",
    "    \n",
    "    train_X = X[train_idx]\n",
    "    train_Y = Y[train_idx]\n",
    "    \n",
    "    test_X = X[test_idx]\n",
    "    test_Y = Y[test_idx]\n",
    "    \n",
    "    \n",
    "    \n",
    "    return train_X, train_Y, test_X, test_Y\n",
    "    \n",
    "\n",
    "\n",
    "\n"
   ]
  },
  {
   "cell_type": "code",
   "execution_count": 22,
   "metadata": {},
   "outputs": [],
   "source": [
    "n_train = np.arange(50, 400,50)"
   ]
  },
  {
   "cell_type": "code",
   "execution_count": 24,
   "metadata": {},
   "outputs": [
    {
     "name": "stdout",
     "output_type": "stream",
     "text": [
      "4342.752551020408\n",
      "3529.751461988304\n",
      "3201.9794520547944\n",
      "3579.061983471074\n",
      "3066.515625\n",
      "2602.5704225352115\n",
      "2905.2934782608695\n"
     ]
    }
   ],
   "source": [
    "\n",
    "\n",
    "for n in n_train:\n",
    "    train_X, train_Y, test_X, test_Y = split_data(x, y, n)  #train_tes\n",
    "    theta =  np.linalg.inv(train_X.T @ train_X) @train_X.T @train_Y  #parameter(weight)\n",
    "    pred = np.around(test_X @ theta, decimals = 0) #prediction for test_points\n",
    "    mse =  np.sum((test_Y - pred)**2)/len(test_Y)  #mean squared error\n",
    "    \n",
    "    print(mse)\n",
    "    "
   ]
  },
  {
   "cell_type": "code",
   "execution_count": 23,
   "metadata": {},
   "outputs": [
    {
     "data": {
      "text/plain": [
       "array([ 50, 100, 150, 200, 250, 300, 350])"
      ]
     },
     "execution_count": 23,
     "metadata": {},
     "output_type": "execute_result"
    }
   ],
   "source": [
    "n_train"
   ]
  },
  {
   "cell_type": "code",
   "execution_count": null,
   "metadata": {},
   "outputs": [],
   "source": []
  }
 ],
 "metadata": {
  "kernelspec": {
   "display_name": "Python 3",
   "language": "python",
   "name": "python3"
  },
  "language_info": {
   "codemirror_mode": {
    "name": "ipython",
    "version": 3
   },
   "file_extension": ".py",
   "mimetype": "text/x-python",
   "name": "python",
   "nbconvert_exporter": "python",
   "pygments_lexer": "ipython3",
   "version": "3.6.9"
  }
 },
 "nbformat": 4,
 "nbformat_minor": 4
}
