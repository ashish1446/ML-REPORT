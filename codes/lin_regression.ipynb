{
 "cells": [
  {
   "cell_type": "code",
   "execution_count": 1,
   "metadata": {},
   "outputs": [],
   "source": [
    "# Standard includes\n",
    "%matplotlib inline\n",
    "import numpy as np\n",
    "import matplotlib\n",
    "import matplotlib.pyplot as plt\n",
    "# Routines for linear regression\n",
    "from sklearn import linear_model\n",
    "from sklearn.metrics import mean_squared_error\n",
    "# Set label size for plots\n",
    "matplotlib.rc('xtick', labelsize=14) \n",
    "matplotlib.rc('ytick', labelsize=14)"
   ]
  },
  {
   "cell_type": "code",
   "execution_count": 2,
   "metadata": {},
   "outputs": [],
   "source": [
    "data = np.genfromtxt('diabetes-data.csv', delimiter=',')\n",
    "features = ['age', 'sex', 'body mass index', 'blood pressure', \n",
    "            'serum1', 'serum2', 'serum3', 'serum4', 'serum5', 'serum6']\n",
    "x = data[:,0:10] # predictors\n",
    "y = data[:,10] # response variable\n"
   ]
  },
  {
   "cell_type": "code",
   "execution_count": 3,
   "metadata": {},
   "outputs": [],
   "source": [
    "def split_data(X,Y, tr_no):\n",
    "    indices =  np.random.permutation(len(X))\n",
    "    \n",
    "    train_idx =  indices[0:tr_no]\n",
    "    test_idx = indices[tr_no:]\n",
    "    \n",
    "    train_X = X[train_idx]\n",
    "    train_Y = Y[train_idx]\n",
    "    \n",
    "    test_X = X[test_idx]\n",
    "    test_Y = Y[test_idx]\n",
    "    \n",
    "    \n",
    "    \n",
    "    return train_X, train_Y, test_X, test_Y\n",
    "    \n",
    "\n",
    "\n",
    "\n"
   ]
  },
  {
   "cell_type": "code",
   "execution_count": 9,
   "metadata": {},
   "outputs": [],
   "source": [
    "train_X, train_Y, test_X, test_Y = split_data(x, y, 400)"
   ]
  },
  {
   "cell_type": "code",
   "execution_count": 10,
   "metadata": {},
   "outputs": [
    {
     "data": {
      "text/plain": [
       "array([220.,  75., 177., 275., 141.,  88., 248., 146., 233., 281., 155.,\n",
       "       109., 220.,  63.,  90.,  70.,  25., 341.,  52.,  61.,  52., 113.,\n",
       "       150., 225., 259.,  91., 303., 219.,  80., 122., 288.,  64., 257.,\n",
       "       164.,  72., 122., 174., 160., 248., 185.,  64., 241.])"
      ]
     },
     "execution_count": 10,
     "metadata": {},
     "output_type": "execute_result"
    }
   ],
   "source": [
    "test_Y"
   ]
  },
  {
   "cell_type": "code",
   "execution_count": 5,
   "metadata": {},
   "outputs": [],
   "source": [
    "theta =  np.linalg.inv(train_X.T @ train_X) @train_X.T @train_Y"
   ]
  },
  {
   "cell_type": "code",
   "execution_count": 6,
   "metadata": {},
   "outputs": [
    {
     "data": {
      "text/plain": [
       "array([ 2.22964299e-02, -2.60727886e+01,  5.35372592e+00,  1.01779705e+00,\n",
       "        1.26358591e+00, -1.28493621e+00, -3.06827817e+00, -5.50804168e+00,\n",
       "        5.50338146e+00,  1.23385180e-01])"
      ]
     },
     "execution_count": 6,
     "metadata": {},
     "output_type": "execute_result"
    }
   ],
   "source": [
    "theta"
   ]
  },
  {
   "cell_type": "code",
   "execution_count": 11,
   "metadata": {},
   "outputs": [
    {
     "data": {
      "text/plain": [
       "array([220.,  75., 177., 275., 141.,  88., 248., 146., 233., 281., 155.,\n",
       "       109., 220.,  63.,  90.,  70.,  25., 341.,  52.,  61.,  52., 113.,\n",
       "       150., 225., 259.,  91., 303., 219.,  80., 122., 288.,  64., 257.,\n",
       "       164.,  72., 122., 174., 160., 248., 185.,  64., 241.])"
      ]
     },
     "execution_count": 11,
     "metadata": {},
     "output_type": "execute_result"
    }
   ],
   "source": [
    "test_Y"
   ]
  },
  {
   "cell_type": "code",
   "execution_count": 13,
   "metadata": {},
   "outputs": [],
   "source": [
    "pred = np.around(test_X @ theta, decimals = 0)"
   ]
  },
  {
   "cell_type": "code",
   "execution_count": 14,
   "metadata": {},
   "outputs": [
    {
     "data": {
      "text/plain": [
       "array([192.,  76., 122., 199., 173.,  97., 200., 150., 245., 233., 215.,\n",
       "       207., 209.,  66.,  77., 184., 149., 241.,  75., 118., 204., 109.,\n",
       "       141., 222., 152., 166., 267., 136.,  96., 169., 213.,  97., 178.,\n",
       "       186.,  96., 184., 173., 121., 210., 154., 105., 211.])"
      ]
     },
     "execution_count": 14,
     "metadata": {},
     "output_type": "execute_result"
    }
   ],
   "source": [
    "pred"
   ]
  },
  {
   "cell_type": "code",
   "execution_count": 15,
   "metadata": {},
   "outputs": [],
   "source": [
    "mse =  np.sum((test_Y - pred)**2)/len(test_Y)"
   ]
  },
  {
   "cell_type": "code",
   "execution_count": 16,
   "metadata": {},
   "outputs": [
    {
     "data": {
      "text/plain": [
       "3486.0238095238096"
      ]
     },
     "execution_count": 16,
     "metadata": {},
     "output_type": "execute_result"
    }
   ],
   "source": [
    "mse"
   ]
  },
  {
   "cell_type": "code",
   "execution_count": 22,
   "metadata": {},
   "outputs": [],
   "source": [
    "n_train = np.arange(50, 400,50)"
   ]
  },
  {
   "cell_type": "code",
   "execution_count": 24,
   "metadata": {},
   "outputs": [
    {
     "name": "stdout",
     "output_type": "stream",
     "text": [
      "4342.752551020408\n",
      "3529.751461988304\n",
      "3201.9794520547944\n",
      "3579.061983471074\n",
      "3066.515625\n",
      "2602.5704225352115\n",
      "2905.2934782608695\n"
     ]
    }
   ],
   "source": [
    "\n",
    "\n",
    "for n in n_train:\n",
    "    train_X, train_Y, test_X, test_Y = split_data(x, y, n)\n",
    "    theta =  np.linalg.inv(train_X.T @ train_X) @train_X.T @train_Y\n",
    "    pred = np.around(test_X @ theta, decimals = 0)\n",
    "    mse =  np.sum((test_Y - pred)**2)/len(test_Y)\n",
    "    \n",
    "    print(mse)\n",
    "    "
   ]
  },
  {
   "cell_type": "code",
   "execution_count": 23,
   "metadata": {},
   "outputs": [
    {
     "data": {
      "text/plain": [
       "array([ 50, 100, 150, 200, 250, 300, 350])"
      ]
     },
     "execution_count": 23,
     "metadata": {},
     "output_type": "execute_result"
    }
   ],
   "source": [
    "n_train"
   ]
  },
  {
   "cell_type": "code",
   "execution_count": null,
   "metadata": {},
   "outputs": [],
   "source": []
  }
 ],
 "metadata": {
  "kernelspec": {
   "display_name": "Python 3",
   "language": "python",
   "name": "python3"
  },
  "language_info": {
   "codemirror_mode": {
    "name": "ipython",
    "version": 3
   },
   "file_extension": ".py",
   "mimetype": "text/x-python",
   "name": "python",
   "nbconvert_exporter": "python",
   "pygments_lexer": "ipython3",
   "version": "3.6.9"
  }
 },
 "nbformat": 4,
 "nbformat_minor": 4
}
