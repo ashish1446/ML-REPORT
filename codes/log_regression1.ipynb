{
 "cells": [
  {
   "cell_type": "code",
   "execution_count": 33,
   "metadata": {},
   "outputs": [
    {
     "name": "stdout",
     "output_type": "stream",
     "text": [
      "Automatically created module for IPython interactive environment\n"
     ]
    }
   ],
   "source": [
    "print(__doc__)\n",
    "import numpy as np\n",
    "import matplotlib.pyplot as plt\n",
    "from sklearn.datasets import load_breast_cancer\n",
    "from sklearn.model_selection import train_test_split\n",
    "import scipy\n",
    "\n",
    "X, y= load_breast_cancer(return_X_y=True)\n",
    "#X = np.c_[ X, np.ones(X.shape[0]) ] \n",
    "X_train, X_test, y_train, y_test = train_test_split(X, y, random_state=0)\n",
    "X_train = X_train.T\n",
    "X_test = X_test.T\n",
    "\n",
    "y_train =  y_train.reshape(1, len(y_train))\n",
    "y_test = y_test.reshape(1, len(y_test))\n"
   ]
  },
  {
   "cell_type": "code",
   "execution_count": 34,
   "metadata": {},
   "outputs": [],
   "source": [
    "def sigmoid(z):\n",
    "    return 1/(1 + np.exp(-z))"
   ]
  },
  {
   "cell_type": "code",
   "execution_count": 35,
   "metadata": {},
   "outputs": [],
   "source": [
    "def init0(dim):\n",
    "    \n",
    "    \n",
    "    w = np.zeros((dim, 1))\n",
    "    b = 0\n",
    "    \n",
    "    return w, b"
   ]
  },
  {
   "cell_type": "code",
   "execution_count": 36,
   "metadata": {},
   "outputs": [],
   "source": [
    "def propagate(w, b, X, Y):\n",
    "    \n",
    "    m = X.shape[1]\n",
    "    \n",
    "    A = sigmoid(np.dot(w.T,X) +b)                                 \n",
    "    cost = (-1/m)*( np.sum(np.log(A)*Y) + np.sum(np.log(1-A)*(1-Y)) ) \n",
    "    \n",
    "    \n",
    "    dw = np.dot(X,(A-Y).T)/m\n",
    "    db = np.sum(A-Y)/m\n",
    "    \n",
    "    \n",
    "    \n",
    "    \n",
    "    grads = {\"dw\": dw,\n",
    "             \"db\": db}\n",
    "    \n",
    "    return grads, cost\n",
    "    \n",
    "    \n",
    "    "
   ]
  },
  {
   "cell_type": "code",
   "execution_count": 37,
   "metadata": {},
   "outputs": [],
   "source": [
    "def optimize(w, b, X, Y, num_iterations, learning_rate, print_cost = False):\n",
    "    \n",
    "    \n",
    "    \n",
    "        costs = []\n",
    "    \n",
    "        for i in range(num_iterations): \n",
    "             \n",
    "            \n",
    "            grads, cost = propagate(w, b, X, Y)\n",
    "        \n",
    "        \n",
    "        \n",
    "            dw = grads[\"dw\"]\n",
    "            db = grads[\"db\"]\n",
    "        \n",
    "        \n",
    "            w = w - learning_rate*dw\n",
    "            b = b - learning_rate*db\n",
    "        \n",
    "            if i % 100 == 0:\n",
    "                \n",
    "                costs.append(cost)\n",
    "        \n",
    "       \n",
    "            if print_cost and i % 100 == 0:\n",
    "                \n",
    "                print (\"Cost after iteration %i: %f\" %(i, cost))\n",
    "    \n",
    "        params = {\"w\": w,\n",
    "                  \"b\": b}\n",
    "    \n",
    "        grads = {\"dw\": dw,\n",
    "             \"db\": db}\n",
    "    \n",
    "        return params, grads, costs"
   ]
  },
  {
   "cell_type": "code",
   "execution_count": 38,
   "metadata": {},
   "outputs": [],
   "source": [
    "def predict(w, b, X):\n",
    "    \n",
    "    m = X.shape[1]\n",
    "    Y_prediction = np.zeros((1,m))\n",
    "    w = w.reshape(X.shape[0], 1)\n",
    "    \n",
    "    A = sigmoid(np.dot(w.T,X) + b) \n",
    "    \n",
    "    \n",
    "    \n",
    "    for i in range(A.shape[1]):\n",
    "        \n",
    "        if A[0][i] > 0.5:\n",
    "            \n",
    "            Y_prediction[0][i] = 1\n",
    "            \n",
    "        \n",
    "       \n",
    "    \n",
    "    \n",
    "    \n",
    "    return Y_prediction \n",
    "    \n",
    "    \n",
    "    \n",
    "    "
   ]
  },
  {
   "cell_type": "code",
   "execution_count": 39,
   "metadata": {},
   "outputs": [],
   "source": [
    "def model(X_train, Y_train, X_test, Y_test, num_iterations , learning_rate , print_cost = False):\n",
    "    \n",
    "    w, b =  init0(X_train.shape[0])\n",
    "\n",
    "    # Gradient descent \n",
    "    parameters, grads, costs =  optimize(w, b, X_train, Y_train, num_iterations, learning_rate, print_cost = False)\n",
    "    \n",
    "    # Retrieve parameters w and b from dictionary \"parameters\"\n",
    "    w = parameters[\"w\"]\n",
    "    b = parameters[\"b\"]\n",
    "    \n",
    "    # Predict test/train set examples \n",
    "    Y_prediction_test = predict(w, b, X_test)\n",
    "    Y_prediction_train = predict(w, b, X_train)\n",
    "\n",
    "    \n",
    "\n",
    "    # Print train/test Errors\n",
    "    print(\"train accuracy: {} %\".format(100 - np.mean(np.abs(Y_prediction_train - Y_train)) * 100))\n",
    "    print(\"test accuracy: {} %\".format(100 - np.mean(np.abs(Y_prediction_test - Y_test)) * 100))\n",
    "\n",
    "    \n",
    "    d = {\"costs\": costs,\n",
    "         \"Y_prediction_test\": Y_prediction_test, \n",
    "         \"Y_prediction_train\" : Y_prediction_train, \n",
    "         \"w\" : w, \n",
    "         \"b\" : b,\n",
    "         \"learning_rate\" : learning_rate,\n",
    "         \"num_iterations\": num_iterations}\n",
    "    \n",
    "    return d"
   ]
  },
  {
   "cell_type": "code",
   "execution_count": 58,
   "metadata": {},
   "outputs": [
    {
     "name": "stderr",
     "output_type": "stream",
     "text": [
      "<ipython-input-36-132bf0f526a8>:6: RuntimeWarning: divide by zero encountered in log\n",
      "  cost = (-1/m)*( np.sum(np.log(A)*Y) + np.sum(np.log(1-A)*(1-Y)) )\n",
      "<ipython-input-36-132bf0f526a8>:6: RuntimeWarning: invalid value encountered in multiply\n",
      "  cost = (-1/m)*( np.sum(np.log(A)*Y) + np.sum(np.log(1-A)*(1-Y)) )\n",
      "<ipython-input-34-df6f452ef506>:2: RuntimeWarning: overflow encountered in exp\n",
      "  return 1/(1 + np.exp(-z))\n"
     ]
    },
    {
     "name": "stdout",
     "output_type": "stream",
     "text": [
      "train accuracy: 92.01877934272301 %\n",
      "test accuracy: 91.60839160839161 %\n"
     ]
    }
   ],
   "source": [
    "d = model(X_train, y_train, X_test, y_test, num_iterations = 2000, learning_rate = 0.001, print_cost = False)"
   ]
  },
  {
   "cell_type": "code",
   "execution_count": null,
   "metadata": {},
   "outputs": [],
   "source": []
  }
 ],
 "metadata": {
  "kernelspec": {
   "display_name": "Python 3",
   "language": "python",
   "name": "python3"
  },
  "language_info": {
   "codemirror_mode": {
    "name": "ipython",
    "version": 3
   },
   "file_extension": ".py",
   "mimetype": "text/x-python",
   "name": "python",
   "nbconvert_exporter": "python",
   "pygments_lexer": "ipython3",
   "version": "3.8.2"
  }
 },
 "nbformat": 4,
 "nbformat_minor": 4
}
