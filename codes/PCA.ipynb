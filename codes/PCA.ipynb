{
 "cells": [
  {
   "cell_type": "code",
   "execution_count": 9,
   "metadata": {},
   "outputs": [],
   "source": [
    "#importing necessary libraries\n",
    "import numpy  as np\n",
    "import matplotlib.pyplot as plt\n",
    "import matplotlib.animation as animation"
   ]
  },
  {
   "cell_type": "code",
   "execution_count": 10,
   "metadata": {},
   "outputs": [],
   "source": [
    "#importing the MNIST dataset\n",
    "\n",
    "from sklearn.datasets import fetch_openml\n",
    "mnist = fetch_openml(name='mnist_784')\n",
    "images = mnist.data\n",
    "labels = [int(k) for k in mnist.target]\n",
    "labels = np.array(labels)"
   ]
  },
  {
   "cell_type": "code",
   "execution_count": 11,
   "metadata": {},
   "outputs": [],
   "source": [
    "#preprocessing\n",
    "images = images / 255\n",
    "for i in range(70000):\n",
    "    \n",
    "    images[i] = images[i] - np.mean(images[i])\n",
    "    \n",
    "for i in range(70000):\n",
    "    \n",
    "    images[i] = images[i]/np.std(images[i])\n",
    "\n"
   ]
  },
  {
   "cell_type": "code",
   "execution_count": 12,
   "metadata": {},
   "outputs": [
    {
     "data": {
      "text/plain": [
       "<matplotlib.image.AxesImage at 0x7fcb53d1ea90>"
      ]
     },
     "execution_count": 12,
     "metadata": {},
     "output_type": "execute_result"
    },
    {
     "data": {
      "image/png": "[encoded data removed]",
      "text/plain": [
       "<Figure size 432x288 with 1 Axes>"
      ]
     },
     "metadata": {
      "needs_background": "light"
     },
     "output_type": "display_data"
    }
   ],
   "source": [
    "#visualization demo\n",
    "\n",
    "#plt.figure(figsize=(4,4))\n",
    "plt.imshow(images[150].reshape(28,28))\n",
    "#plt.legend(\"\")\n"
   ]
  },
  {
   "cell_type": "code",
   "execution_count": 13,
   "metadata": {},
   "outputs": [],
   "source": [
    "cov = np.cov(images.T) #covariance matrix\n",
    "eigvals, eigvecs = np.linalg.eig(cov)\n",
    "\n",
    "index = eigvals.argsort()[::-1]  \n",
    "\n",
    "eigvals = eigvals[index]\n",
    "eigvecs = eigvecs[index,:]"
   ]
  },
  {
   "cell_type": "code",
   "execution_count": 14,
   "metadata": {},
   "outputs": [
    {
     "data": {
      "text/plain": [
       "'\\nn=500 # number of principal components used\\nimage_lowd = np.matmul(images,eigvecs[:n].T)\\nimage_recon = np.real(np.matmul(image_lowd,eigvecs[:n]))\\nplt.imshow(image_recon[10].reshape(28,28));\\n\\n'"
      ]
     },
     "execution_count": 14,
     "metadata": {},
     "output_type": "execute_result"
    }
   ],
   "source": [
    "\n",
    "\"\"\"\n",
    "n=500 # number of principal components used\n",
    "image_lowd = np.matmul(images,eigvecs[:n].T)\n",
    "image_recon = np.real(np.matmul(image_lowd,eigvecs[:n]))\n",
    "plt.imshow(image_recon[10].reshape(28,28));\n",
    "\n",
    "\"\"\""
   ]
  },
  {
   "cell_type": "code",
   "execution_count": null,
   "metadata": {},
   "outputs": [],
   "source": [
    "fig = plt.figure()\n",
    "ims = []\n",
    "\n",
    "for  n in range(784):\n",
    "\n",
    "    image_lowd = np.matmul(images,eigvecs[:n].T)\n",
    "    image_recon = np.real(np.matmul(image_lowd,eigvecs[:n]))\n",
    "    img = plt.imshow(image_recon[150].reshape(28,28))\n",
    "    ims.append([img])\n",
    "    \n",
    "ani = animation.ArtistAnimation(fig, ims, interval=70, blit=True,\n",
    "                                repeat_delay=1000)\n",
    "    \n",
    "#plt.show()\n",
    "ani.save('mnist.mp4')"
   ]
  },
  {
   "cell_type": "code",
   "execution_count": null,
   "metadata": {},
   "outputs": [],
   "source": []
  }
 ],
 "metadata": {
  "kernelspec": {
   "display_name": "Python 3",
   "language": "python",
   "name": "python3"
  },
  "language_info": {
   "codemirror_mode": {
    "name": "ipython",
    "version": 3
   },
   "file_extension": ".py",
   "mimetype": "text/x-python",
   "name": "python",
   "nbconvert_exporter": "python",
   "pygments_lexer": "ipython3",
   "version": "3.8.2"
  }
 },
 "nbformat": 4,
 "nbformat_minor": 4
}
