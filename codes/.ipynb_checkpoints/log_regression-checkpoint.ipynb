{
 "cells": [
  {
   "cell_type": "code",
   "execution_count": 57,
   "metadata": {},
   "outputs": [
    {
     "name": "stdout",
     "output_type": "stream",
     "text": [
      "Automatically created module for IPython interactive environment\n"
     ]
    },
    {
     "data": {
      "text/plain": [
       "tuple"
      ]
     },
     "execution_count": 57,
     "metadata": {},
     "output_type": "execute_result"
    }
   ],
   "source": [
    "print(__doc__)\n",
    "import numpy as np\n",
    "import matplotlib.pyplot as plt\n",
    "from sklearn.datasets import load_breast_cancer\n",
    "from sklearn.model_selection import train_test_split\n",
    "import scipy\n",
    "\n",
    "X, y= load_breast_cancer(return_X_y=True)\n",
    "X = np.c_[ X, np.ones(X.shape[0]) ] \n",
    "X_train, X_test, y_train, y_test = train_test_split(X, y, random_state=0)\n",
    "type(data)"
   ]
  },
  {
   "cell_type": "code",
   "execution_count": 30,
   "metadata": {},
   "outputs": [],
   "source": [
    "def predict(x,w):\n",
    "    #return 1/(1 + np.exp(-(np.dot(w,x))))\n",
    "    return scipy.special.expit(-np.dot(w,x)) "
   ]
  },
  {
   "cell_type": "code",
   "execution_count": 31,
   "metadata": {},
   "outputs": [],
   "source": [
    "def stoch_grad(x,y,learning_rate,iters):\n",
    "    w = w = np.full(X.shape[1],0.01)\n",
    "    for i in range(iters):\n",
    "        idx = np.random.randint(0,len(y))\n",
    "        \n",
    "        w -= learning_rate*np.dot((y[idx] - predict(x[idx],w)),x[idx])\n",
    "        \n",
    "        \n",
    "    return w/X_train.shape[0]"
   ]
  },
  {
   "cell_type": "code",
   "execution_count": 32,
   "metadata": {},
   "outputs": [],
   "source": [
    "\n",
    "w = stoch_grad(X_train, y_train,0.0001, 10000000)"
   ]
  },
  {
   "cell_type": "code",
   "execution_count": 33,
   "metadata": {},
   "outputs": [],
   "source": [
    "predictions =  np.zeros(len(y_test))\n",
    "for i in range(len(y_test)):\n",
    "    if predict(X_test[i],w) > 0.5:\n",
    "        predictions[i] = 1\n",
    "    else:\n",
    "        predictions[i] = 0\n"
   ]
  },
  {
   "cell_type": "code",
   "execution_count": 34,
   "metadata": {},
   "outputs": [
    {
     "name": "stdout",
     "output_type": "stream",
     "text": [
      "137 143\n"
     ]
    }
   ],
   "source": [
    "right =np.sum(predictions == y_test)\n",
    "print(right , len(y_test))"
   ]
  },
  {
   "cell_type": "code",
   "execution_count": 59,
   "metadata": {},
   "outputs": [
    {
     "name": "stdout",
     "output_type": "stream",
     "text": [
      "test error =  95.8041958041958\n"
     ]
    }
   ],
   "source": [
    "print ( \"test error = \",(right/len(y_test))*100)"
   ]
  },
  {
   "cell_type": "code",
   "execution_count": null,
   "metadata": {},
   "outputs": [],
   "source": []
  }
 ],
 "metadata": {
  "kernelspec": {
   "display_name": "Python 3",
   "language": "python",
   "name": "python3"
  },
  "language_info": {
   "codemirror_mode": {
    "name": "ipython",
    "version": 3
   },
   "file_extension": ".py",
   "mimetype": "text/x-python",
   "name": "python",
   "nbconvert_exporter": "python",
   "pygments_lexer": "ipython3",
   "version": "3.8.2"
  }
 },
 "nbformat": 4,
 "nbformat_minor": 4
}
